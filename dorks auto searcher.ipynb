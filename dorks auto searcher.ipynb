{
 "cells": [
  {
   "cell_type": "code",
   "execution_count": 1,
   "id": "2ee842f0",
   "metadata": {
    "ExecuteTime": {
     "end_time": "2022-06-15T08:41:42.817721Z",
     "start_time": "2022-06-15T08:41:40.413735Z"
    }
   },
   "outputs": [
    {
     "name": "stdout",
     "output_type": "stream",
     "text": [
      "Defaulting to user installation because normal site-packages is not writeable\n",
      "Collecting selenium\n",
      "  Downloading selenium-4.3.0-py3-none-any.whl (981 kB)\n",
      "Collecting trio~=0.17\n",
      "  Downloading trio-0.21.0-py3-none-any.whl (358 kB)\n",
      "Requirement already satisfied: urllib3[secure,socks]~=1.26 in c:\\programdata\\anaconda3\\lib\\site-packages (from selenium) (1.26.9)\n",
      "Collecting trio-websocket~=0.9\n",
      "  Downloading trio_websocket-0.9.2-py3-none-any.whl (16 kB)\n",
      "Requirement already satisfied: attrs>=19.2.0 in c:\\programdata\\anaconda3\\lib\\site-packages (from trio~=0.17->selenium) (21.4.0)\n",
      "Collecting async-generator>=1.9\n",
      "  Downloading async_generator-1.10-py3-none-any.whl (18 kB)\n",
      "Collecting outcome\n",
      "  Downloading outcome-1.2.0-py2.py3-none-any.whl (9.7 kB)\n",
      "Requirement already satisfied: idna in c:\\programdata\\anaconda3\\lib\\site-packages (from trio~=0.17->selenium) (3.3)\n",
      "Requirement already satisfied: sniffio in c:\\programdata\\anaconda3\\lib\\site-packages (from trio~=0.17->selenium) (1.2.0)\n",
      "Requirement already satisfied: sortedcontainers in c:\\programdata\\anaconda3\\lib\\site-packages (from trio~=0.17->selenium) (2.4.0)\n",
      "Requirement already satisfied: cffi>=1.14 in c:\\programdata\\anaconda3\\lib\\site-packages (from trio~=0.17->selenium) (1.15.0)\n",
      "Requirement already satisfied: pycparser in c:\\programdata\\anaconda3\\lib\\site-packages (from cffi>=1.14->trio~=0.17->selenium) (2.21)\n",
      "Collecting wsproto>=0.14\n",
      "  Downloading wsproto-1.1.0-py3-none-any.whl (24 kB)\n",
      "Requirement already satisfied: pyOpenSSL>=0.14 in c:\\programdata\\anaconda3\\lib\\site-packages (from urllib3[secure,socks]~=1.26->selenium) (21.0.0)\n",
      "Requirement already satisfied: cryptography>=1.3.4 in c:\\programdata\\anaconda3\\lib\\site-packages (from urllib3[secure,socks]~=1.26->selenium) (3.4.8)\n",
      "Requirement already satisfied: certifi in c:\\programdata\\anaconda3\\lib\\site-packages (from urllib3[secure,socks]~=1.26->selenium) (2021.10.8)\n",
      "Requirement already satisfied: PySocks!=1.5.7,<2.0,>=1.5.6 in c:\\programdata\\anaconda3\\lib\\site-packages (from urllib3[secure,socks]~=1.26->selenium) (1.7.1)\n",
      "Requirement already satisfied: six>=1.5.2 in c:\\programdata\\anaconda3\\lib\\site-packages (from pyOpenSSL>=0.14->urllib3[secure,socks]~=1.26->selenium) (1.16.0)\n",
      "Collecting h11<1,>=0.9.0\n",
      "  Downloading h11-0.13.0-py3-none-any.whl (58 kB)\n",
      "Installing collected packages: outcome, h11, async-generator, wsproto, trio, trio-websocket, selenium\n",
      "Successfully installed async-generator-1.10 h11-0.13.0 outcome-1.2.0 selenium-4.3.0 trio-0.21.0 trio-websocket-0.9.2 wsproto-1.1.0\n"
     ]
    }
   ],
   "source": [
    "!pip install selenium"
   ]
  },
  {
   "cell_type": "code",
   "execution_count": 2,
   "id": "d1dd4f45",
   "metadata": {
    "ExecuteTime": {
     "end_time": "2022-06-23T16:30:28.500673Z",
     "start_time": "2022-06-23T16:30:28.348345Z"
    }
   },
   "outputs": [],
   "source": [
    "from functools import partial\n",
    "from selenium import webdriver\n",
    "from selenium.webdriver.common.keys import Keys\n",
    "import time\n",
    "import webbrowser\n",
    "import os"
   ]
  },
  {
   "cell_type": "code",
   "execution_count": 3,
   "id": "9087105f",
   "metadata": {
    "ExecuteTime": {
     "end_time": "2022-06-23T04:57:23.565276Z",
     "start_time": "2022-06-23T04:57:20.813276Z"
    }
   },
   "outputs": [
    {
     "name": "stdout",
     "output_type": "stream",
     "text": [
      "Defaulting to user installation because normal site-packages is not writeable\n",
      "Collecting google\n",
      "  Downloading google-3.0.0-py2.py3-none-any.whl (45 kB)\n",
      "Requirement already satisfied: beautifulsoup4 in c:\\programdata\\anaconda3\\lib\\site-packages (from google) (4.11.1)\n",
      "Requirement already satisfied: soupsieve>1.2 in c:\\programdata\\anaconda3\\lib\\site-packages (from beautifulsoup4->google) (2.3.1)\n",
      "Installing collected packages: google\n",
      "Successfully installed google-3.0.0\n"
     ]
    }
   ],
   "source": [
    "# !pip install beautifulsoup4\n",
    "!pip install google"
   ]
  },
  {
   "cell_type": "code",
   "execution_count": 4,
   "id": "8c3bce9a",
   "metadata": {
    "ExecuteTime": {
     "end_time": "2022-06-23T16:30:30.299898Z",
     "start_time": "2022-06-23T16:30:30.287133Z"
    }
   },
   "outputs": [],
   "source": [
    "def search_dork(lst):\n",
    "    try:\n",
    "        from googlesearch import search\n",
    "    except ImportError:\n",
    "        print(\"No module named 'google' found\")\n",
    "    urls = []\n",
    "    # to search\n",
    "    for i in lst:\n",
    "        query = i\n",
    "        for j in search(query, tld=\"co.in\", num=5, stop=5, pause=2):\n",
    "            urls.append(j)\n",
    "    return urls"
   ]
  },
  {
   "cell_type": "code",
   "execution_count": 5,
   "id": "52d27a78",
   "metadata": {
    "ExecuteTime": {
     "end_time": "2022-06-23T16:30:32.498111Z",
     "start_time": "2022-06-23T16:30:32.491246Z"
    }
   },
   "outputs": [],
   "source": [
    "def url_searcher(urls):\n",
    "    for url in urls:\n",
    "        webbrowser.open_new_tab(url)"
   ]
  },
  {
   "cell_type": "code",
   "execution_count": 6,
   "id": "a5b4eb8c",
   "metadata": {
    "ExecuteTime": {
     "end_time": "2022-06-23T16:30:38.052659Z",
     "start_time": "2022-06-23T16:30:38.034770Z"
    }
   },
   "outputs": [],
   "source": [
    "def menu():\n",
    "    print(\"Enter 1 to start and 0 to end\")\n",
    "    key = int(input())\n",
    "    return key\n",
    "def main():\n",
    "    key = menu()\n",
    "    while key != 0:\n",
    "        if (key == 1):\n",
    "            #requests.get(link, headers = {'User-agent': 'your bot 0.1'})\n",
    "            print(\"Enter the dorks to be searched one by one and enter 'STOP' or 'stop' once done...\")\n",
    "            lst = [i for i in iter(partial(input, 'dork link: '), 'stop' or 'STOP')]\n",
    "            print(\"Here are the websites\")\n",
    "            urls = search_dork(lst)\n",
    "            url_searcher(urls)\n",
    "#             if urls.status_code == 429:\n",
    "#                 time.sleep(int(response.headers[\"Retry-After\"]))\n",
    "            print(urls)\n",
    "            key = menu()"
   ]
  },
  {
   "cell_type": "code",
   "execution_count": null,
   "id": "0a958479",
   "metadata": {
    "ExecuteTime": {
     "end_time": "2022-06-23T16:34:46.277081Z",
     "start_time": "2022-06-23T16:34:01.168843Z"
    }
   },
   "outputs": [
    {
     "name": "stdout",
     "output_type": "stream",
     "text": [
      "Enter 1 to start and 0 to end\n",
      "1\n",
      "Enter the dorks to be searched one by one and enter 'STOP' or 'stop' once done...\n",
      "dork link: site:linkedin.com inurl:pub -inurl:dir “at Microsoft” “Current”\n",
      "dork link: site:linkedin.com “Arun Anshu”\n",
      "dork link: stop\n",
      "Here are the websites\n",
      "['https://www.linkedin.com/in/kumar-m-37b0aa32?trk=pub-pbmap', 'https://uk.linkedin.com/in/bandaru-ashok-93281192?trk=pub-pbmap', 'https://www.linkedin.com/in/dagrif?trk=pub-pbmap', 'https://www.linkedin.com/in/franklinmunoz?trk=pub-pbmap', 'https://www.linkedin.com/in/epeng2?trk=pub-pbmap', 'https://in.linkedin.com/in/arun-anshu-04370420b', 'https://in.linkedin.com/in/arun-anshu-85012417', 'https://qa.linkedin.com/in/arun-anshu-0a82bb117', 'https://in.linkedin.com/in/anshul-arun-764856117', 'https://in.linkedin.com/in/rajat-ranjan-220865220']\n",
      "Enter 1 to start and 0 to end\n"
     ]
    }
   ],
   "source": [
    "# dorks ->\n",
    "# site:linkedin.com inurl:pub -inurl:dir “at Microsoft” “Current”\n",
    "# site:linkedin.com inurl:pub -inurl:dir “at Amazon” “Current”\n",
    "# site:linkedin.com “Arun Anshu”\n",
    "# site:linkedin.com “Ashok Yadav”\n",
    "# urls = ['1', 'http://www.reddit.com', 'http://stackoverflow.com']\n",
    "main()"
   ]
  },
  {
   "cell_type": "code",
   "execution_count": null,
   "id": "37ba4d93",
   "metadata": {
    "ExecuteTime": {
     "end_time": "2022-06-15T09:20:37.111875Z",
     "start_time": "2022-06-15T09:20:37.111875Z"
    }
   },
   "outputs": [],
   "source": [
    "# import argparse\n",
    "# import sys\n",
    "# import time\n",
    "\n",
    "# from selenium import webdriver\n",
    "# from selenium.webdriver.common.keys import Keys\n",
    "# from selenium.webdriver.common.by import By\n",
    "# from selenium.webdriver.support.ui import WebDriverWait\n",
    "# from selenium.webdriver.support import expected_conditions as EC\n",
    "\n",
    "# from blessings import Terminal\n",
    "\n",
    "# t = Terminal()\n",
    "\n",
    "\n",
    "# # Check for args, print logo and usage\n",
    "# if not len(sys.argv[1:]):\n",
    "#     print t.cyan(\"\"\"\n",
    "#  ____          _   _____     _   \n",
    "# |    \\ ___ ___| |_|   | |___| |_ \n",
    "# |  |  | . |  _| '_| | | | -_|  _|\n",
    "# |____/|___|_| |_,_|_|___|___|_|  \n",
    "                               \n",
    "# Welcome to DorkNet.\n",
    "# To start using this script please provide one or more command\n",
    "# line arguments and their corresponding value, where applicable.\n",
    "# To display all options available use -h or --help.\n",
    "# Example:\n",
    "# DorkNet.py -h\n",
    "# DorkNet.py -d inurl:show.php?id= --verbose\\n\"\"\")\n",
    "    \n",
    "#     sys.exit(0)\n",
    "\n",
    "\n",
    "# # Handle command line arguments\n",
    "# parser = argparse.ArgumentParser(description=\"Use this script and dorks to find vulnerable web applications.\")\n",
    "# group = parser.add_mutually_exclusive_group()\n",
    "# group.add_argument(\"-d\", \"--dork\", help=\"\t\tspecify the dork you wish to use\\n\")\n",
    "# group.add_argument(\"-l\", \"--list\", help=\"\t\tspecify path to list with dorks\\n\")\n",
    "# #parser.add_argument(\"-n\", \"--nogui\", action=\"store_true\", default=False, help=\"run headless without a GUI\")\n",
    "# parser.add_argument(\"-v\", \"--verbose\", action=\"store_true\", default=False, help=\"toggle verbosity\\n\")\n",
    "# args = parser.parse_args()\n",
    "\n",
    "# dork_list = []\n",
    "\n",
    "# # Doesn't jive with proxy settings\n",
    "# #if args.nogui == True:\n",
    "# #\toptions = webdriver.FirefoxOptions()\n",
    "# #\toptions.add_argument(\"--headless\")\n",
    "\t\n",
    "\n",
    "# # Dork list processing\n",
    "# if args.list:\n",
    "# \tprint \"\\n[\" + t.green(\"+\") + \"]Reading in list from: \" + args.list + \"\\n\\n\"\t\n",
    "# \ttry:\n",
    "# \t\twith open(args.list, \"r\") as ins:\n",
    "# \t\t\tfor line in ins:\n",
    "# \t\t\t\tdork_list.append(line)\n",
    "\t\t\t\t\n",
    "# \t\t\t\tif args.verbose == True:\n",
    "# \t\t\t\t\tprint \"[\" + t.magenta(\"~\") + \"]\" + line \n",
    "\t\t\t\t\n",
    "# \texcept IOError as e:\n",
    "# \t\tprint \"\\n[\" + t.red(\"!\") + \"]Could not read dork list\"\n",
    "# \t\tif args.verbose == True:\n",
    "# \t\t\tprint \"\\nAn IO Error was raised with the following error message: \"\n",
    "# \t\t\tprint \"\\n %s\" % (e)\n",
    "            \n",
    "# else:\n",
    "#     dork_list.append(args.dork)\n",
    "\n",
    "\n",
    "\n",
    "# print \"\\n[\" + t.green(\"+\") + \"]Would you like DorkNet to proxy it's connection to the search engine?\"\n",
    "# query = raw_input(\"[Y]es/[N]o: \").lower()\n",
    "\n",
    "# if query == 'y':\n",
    "# \tIP = raw_input(\"\\n[\" + t.green(\"+\") + \"]Please enter the proxy host IP: \")\n",
    "# \tPORT = raw_input(\"\\n[\" + t.green(\"+\") + \"]Please enter the proxy port: \")\n",
    "# \tset_proxy = True\n",
    "# elif query == 'n':\n",
    "# \tprint \"\\n[\" + t.green(\"+\") + \"]Establishing unproxied connection...\\n\"\n",
    "# \tset_proxy = False\n",
    "# else:\n",
    "# \tprint \"\\n[\" + t.red(\"!\") + \"]Unhandled option, defaulting to unproxied connection...\"\n",
    "# \tset_proxy = False\n",
    "\n",
    "\n",
    "# # Web Driver Proxy\n",
    "# def proxy(PROXY_HOST,PROXY_PORT):\n",
    "# \tfp = webdriver.FirefoxProfile()\n",
    "# \tprint \"[\" + t.green(\"+\") + \"]Proxy host set to: \" + PROXY_HOST\n",
    "# \tprint \"[\" + t.green(\"+\") + \"]Proxy port set to: \" + PROXY_PORT\n",
    "# \tprint \"\\n[\" + t.green(\"+\") + \"]Establishing connection...\"\n",
    "# \tfp.set_preference(\"network.proxy.type\", 1)\n",
    "# \tfp.set_preference(\"network.proxy.http\",PROXY_HOST)\n",
    "# \tfp.set_preference(\"network.proxy.http_port\",int(PROXY_PORT))\n",
    "# \tfp.set_preference(\"general.useragent.override\",\"'Mozilla/5.0 (Macintosh; Intel Mac OS X 10_11_6) AppleWebKit/537.36 (KHTML, like Gecko) Chrome/55.0.2883.95 Safari/537.36'\")\n",
    "# \tfp.update_preferences()\n",
    "# \treturn webdriver.Firefox(firefox_profile=fp)\n",
    "\n",
    "\n",
    "# # Function to generate and process results based on input\n",
    "# def search():\n",
    "# \tlink_list = []\n",
    "\t\n",
    "# \tif set_proxy == True:\n",
    "# \t\t# the --nogui option doesn't seem to want to play nice with\n",
    "# \t\t# The way in which i configure the proxy, if the user chose\n",
    "# \t\t# to employ one\n",
    "# \t\tdriver = proxy(IP, PORT)\n",
    "# \t#elif args.nogui == True:\n",
    "# \t#\tdriver = webdriver.Firefox(firefox_options=options)\n",
    "# \telse:\n",
    "# \t\tdriver = webdriver.Firefox()\n",
    "    \n",
    "# \tfor int in range(1):\n",
    "# \t\ttry:\n",
    "# \t\t\tdriver.get(\"http://google.com\")\n",
    "# \t\texcept Exception as e:\n",
    "# \t\t\tprint \"\\n[\" + t.red(\"!\") + \"]A connection could not be established\"\n",
    "# \t\t\tif args.verbose == True:\n",
    "# \t\t\t\tprint \"An error was raised with the following error message: \"\n",
    "# \t\t\t\tprint \"\\n %s\" % (e)\n",
    "# \t\t\t\tbreak\n",
    "# \t\t\t\tdriver.quit()\n",
    "# \t\t\t\tsys.exit(0)\n",
    "\t\t\n",
    "# \t\t#if args.nogui == True:\t\n",
    "# \t\t#\tfor items in dork_list:\n",
    "# \t\t#\t\telem = driver.find_element_by_name(\"q\")\n",
    "# \t\t#\t\telem.clear()\n",
    "# \t\t#\t\telem.send_keys(items)\n",
    "# \t\t#\t\telem.send_keys(Keys.RETURN)\n",
    "# \t\t#\t\ttime.sleep(2.2)\n",
    "# \t\t#\t\n",
    "# \t\t#else:\n",
    "# \t\tassert \"Google\" in driver.title\t\n",
    "# \t\tfor items in dork_list:\n",
    "# \t\t\telem = driver.find_element_by_name(\"q\")\n",
    "# \t\t\telem.clear()\n",
    "# \t\t\telem.send_keys(items)\n",
    "# \t\t\telem.send_keys(Keys.RETURN)\n",
    "# \t\t\ttime.sleep(2.2)\n",
    "# \t\ttry:\n",
    "# \t\t\tWebDriverWait(driver, 20).until(EC.presence_of_element_located((By.CLASS_NAME, \"r\"))) #r\n",
    "# \t\texcept Exception as e:\n",
    "# \t\t\tdriver.quit()\n",
    "# \t\t\tprint \"\\n[\" + t.red(\"!\") + \"]Detecting page source elements failed/timed out.\\n\"\n",
    "\t\t\t\t\n",
    "# \t\t\tif args.verbose == True:\n",
    "# \t\t\t\tprint \"An error was raised with the following error message: \"\n",
    "# \t\t\t\tprint \"\\n %s\" % (e)\n",
    "\t\t\t\t\n",
    "# \t\t\ttime.sleep(1)\n",
    "# \t\t\tcontinue\t\n",
    "\t\t\t\t\n",
    "\t\t\t\t\n",
    "# \t\tassert \"No results found\" not in driver.page_source\n",
    "# \t\tif \"No results found\" in driver.page_source:\n",
    "# \t\t\tcontinue\n",
    "\n",
    "# \t\tlinks = driver.find_elements_by_xpath(\"//div[@data-hveid]/div/div/a[@onmousedown]\") # //h3//a[@href]\n",
    "\t\t\t\n",
    "# \t\tfor elem in links:\n",
    "# \t\t\tlink_list.append(elem.get_attribute(\"href\")) # href elem.get_attribute(\"href\")\n",
    "\t\t\t\t\n",
    "\t\t\t\n",
    "            \n",
    "# \tdriver.quit()\n",
    "# \tfor url in link_list:\n",
    "# \t\tif url.endswith(\"search\"):\n",
    "# \t\t\tlink_list.remove(url)\n",
    "# \treturn link_list\n",
    "\n",
    "# proc_one = search()\n",
    "\n",
    "# with open(\"results.log\", \"ab\") as outfile:\n",
    "# \tfor item in proc_one:\n",
    "# \t\toutfile.write(\"\\n\" + item)\n",
    "\t\n",
    "# \toutfile.close()\n",
    "\n",
    "# if args.verbose == True:\t\n",
    "# \twith open(\"results.log\", \"r\") as infile:\n",
    "# \t\tfor line in infile:\n",
    "# \t\t\tprint \"[\" + t.magenta(\"~\") + \"]\" + line\n",
    "\t\t\n",
    "# \t\toutfile.close()\n",
    "\n",
    "# print \"\\n\\n[\" + t.green(\"+\") + \"]Done. Results have been saved to a textfile, in the current directory as %s for further processing.\\n\" % outfile"
   ]
  },
  {
   "cell_type": "code",
   "execution_count": 27,
   "id": "8cf2f5d8",
   "metadata": {
    "ExecuteTime": {
     "end_time": "2022-06-15T09:15:25.869284Z",
     "start_time": "2022-06-15T09:15:25.856496Z"
    }
   },
   "outputs": [],
   "source": [
    "# urls = ['http://www.google.com', 'http://www.reddit.com', 'http://stackoverflow.com']\n",
    "# chrome_path=\"C:\\\\Program Files (x86)\\\\Google\\\\Chrome\\\\Application\\\\chrome.exe\"\n",
    "# webbrowser.register('chrome', None)\n",
    "# webbrowser.register(webbrowser.BackgroundBrowser(chrome_path), 1)\n",
    "# #b = webbrowser.get('chromedriver')\n",
    "# for url in urls:\n",
    "#     #b.open(url)\n",
    "#     webbrowser.get('chrome').open_new_tab(url)"
   ]
  },
  {
   "cell_type": "code",
   "execution_count": 10,
   "id": "d1fb08f1",
   "metadata": {
    "ExecuteTime": {
     "end_time": "2022-06-19T12:50:15.392006Z",
     "start_time": "2022-06-19T12:50:14.084527Z"
    }
   },
   "outputs": [
    {
     "name": "stdout",
     "output_type": "stream",
     "text": [
      "https://google.comGoogle\n"
     ]
    },
    {
     "ename": "JavascriptException",
     "evalue": "Message: javascript error: missing ) after argument list\n  (Session info: chrome=102.0.5005.115)\nStacktrace:\nBacktrace:\n\tOrdinal0 [0x00D1D953+2414931]\n\tOrdinal0 [0x00CAF5E1+1963489]\n\tOrdinal0 [0x00B9C6B8+837304]\n\tOrdinal0 [0x00B9F0B4+848052]\n\tOrdinal0 [0x00B9EF72+847730]\n\tOrdinal0 [0x00B9F8EA+850154]\n\tOrdinal0 [0x00BF5249+1200713]\n\tOrdinal0 [0x00BE449C+1131676]\n\tOrdinal0 [0x00BF4812+1198098]\n\tOrdinal0 [0x00BE42B6+1131190]\n\tOrdinal0 [0x00BBE860+976992]\n\tOrdinal0 [0x00BBF756+980822]\n\tGetHandleVerifier [0x00F8CC62+2510274]\n\tGetHandleVerifier [0x00F7F760+2455744]\n\tGetHandleVerifier [0x00DAEABA+551962]\n\tGetHandleVerifier [0x00DAD916+547446]\n\tOrdinal0 [0x00CB5F3B+1990459]\n\tOrdinal0 [0x00CBA898+2009240]\n\tOrdinal0 [0x00CBA985+2009477]\n\tOrdinal0 [0x00CC3AD1+2046673]\n\tBaseThreadInitThunk [0x760B6739+25]\n\tRtlGetFullPathName_UEx [0x76F98FEF+1215]\n\tRtlGetFullPathName_UEx [0x76F98FBD+1165]\n",
     "output_type": "error",
     "traceback": [
      "\u001b[1;31m---------------------------------------------------------------------------\u001b[0m",
      "\u001b[1;31mJavascriptException\u001b[0m                       Traceback (most recent call last)",
      "\u001b[1;32m~\\AppData\\Local\\Temp/ipykernel_18264/1595601488.py\u001b[0m in \u001b[0;36m<module>\u001b[1;34m\u001b[0m\n\u001b[0;32m     19\u001b[0m \u001b[1;32mif\u001b[0m \u001b[0m__name__\u001b[0m \u001b[1;33m==\u001b[0m \u001b[1;34m\"__main__\"\u001b[0m\u001b[1;33m:\u001b[0m\u001b[1;33m\u001b[0m\u001b[1;33m\u001b[0m\u001b[0m\n\u001b[0;32m     20\u001b[0m     \u001b[1;32mwith\u001b[0m \u001b[0mopen\u001b[0m\u001b[1;33m(\u001b[0m\u001b[1;34m\"URL.csv\"\u001b[0m\u001b[1;33m)\u001b[0m \u001b[1;32mas\u001b[0m \u001b[0murl_obj\u001b[0m\u001b[1;33m:\u001b[0m\u001b[1;33m\u001b[0m\u001b[1;33m\u001b[0m\u001b[0m\n\u001b[1;32m---> 21\u001b[1;33m         \u001b[0mcsv_url_reader\u001b[0m\u001b[1;33m(\u001b[0m\u001b[0murl_obj\u001b[0m\u001b[1;33m)\u001b[0m\u001b[1;33m\u001b[0m\u001b[1;33m\u001b[0m\u001b[0m\n\u001b[0m",
      "\u001b[1;32m~\\AppData\\Local\\Temp/ipykernel_18264/1595601488.py\u001b[0m in \u001b[0;36mcsv_url_reader\u001b[1;34m(url_obj)\u001b[0m\n\u001b[0;32m     13\u001b[0m         \u001b[0mtitle\u001b[0m \u001b[1;33m=\u001b[0m \u001b[0mline\u001b[0m\u001b[1;33m[\u001b[0m\u001b[1;34m\"Title\"\u001b[0m\u001b[1;33m]\u001b[0m\u001b[1;33m\u001b[0m\u001b[1;33m\u001b[0m\u001b[0m\n\u001b[0;32m     14\u001b[0m         \u001b[0mprint\u001b[0m\u001b[1;33m(\u001b[0m\u001b[0murl\u001b[0m \u001b[1;33m+\u001b[0m \u001b[0mtitle\u001b[0m\u001b[1;33m)\u001b[0m\u001b[1;33m\u001b[0m\u001b[1;33m\u001b[0m\u001b[0m\n\u001b[1;32m---> 15\u001b[1;33m         \u001b[0mdriver\u001b[0m\u001b[1;33m.\u001b[0m\u001b[0mexecute_script\u001b[0m\u001b[1;33m(\u001b[0m\u001b[1;34m\"window.open(\"\u001b[0m \u001b[1;33m+\u001b[0m \u001b[0murl\u001b[0m \u001b[1;33m+\u001b[0m \u001b[1;34m\",'_blank');\"\u001b[0m\u001b[1;33m)\u001b[0m\u001b[1;33m\u001b[0m\u001b[1;33m\u001b[0m\u001b[0m\n\u001b[0m\u001b[0;32m     16\u001b[0m \u001b[1;33m\u001b[0m\u001b[0m\n\u001b[0;32m     17\u001b[0m \u001b[1;33m\u001b[0m\u001b[0m\n",
      "\u001b[1;32m~\\anaconda3\\lib\\site-packages\\selenium\\webdriver\\remote\\webdriver.py\u001b[0m in \u001b[0;36mexecute_script\u001b[1;34m(self, script, *args)\u001b[0m\n\u001b[0;32m    882\u001b[0m         \u001b[0mcommand\u001b[0m \u001b[1;33m=\u001b[0m \u001b[0mCommand\u001b[0m\u001b[1;33m.\u001b[0m\u001b[0mW3C_EXECUTE_SCRIPT\u001b[0m\u001b[1;33m\u001b[0m\u001b[1;33m\u001b[0m\u001b[0m\n\u001b[0;32m    883\u001b[0m \u001b[1;33m\u001b[0m\u001b[0m\n\u001b[1;32m--> 884\u001b[1;33m         return self.execute(command, {\n\u001b[0m\u001b[0;32m    885\u001b[0m             \u001b[1;34m'script'\u001b[0m\u001b[1;33m:\u001b[0m \u001b[0mscript\u001b[0m\u001b[1;33m,\u001b[0m\u001b[1;33m\u001b[0m\u001b[1;33m\u001b[0m\u001b[0m\n\u001b[0;32m    886\u001b[0m             'args': converted_args})['value']\n",
      "\u001b[1;32m~\\anaconda3\\lib\\site-packages\\selenium\\webdriver\\remote\\webdriver.py\u001b[0m in \u001b[0;36mexecute\u001b[1;34m(self, driver_command, params)\u001b[0m\n\u001b[0;32m    428\u001b[0m         \u001b[0mresponse\u001b[0m \u001b[1;33m=\u001b[0m \u001b[0mself\u001b[0m\u001b[1;33m.\u001b[0m\u001b[0mcommand_executor\u001b[0m\u001b[1;33m.\u001b[0m\u001b[0mexecute\u001b[0m\u001b[1;33m(\u001b[0m\u001b[0mdriver_command\u001b[0m\u001b[1;33m,\u001b[0m \u001b[0mparams\u001b[0m\u001b[1;33m)\u001b[0m\u001b[1;33m\u001b[0m\u001b[1;33m\u001b[0m\u001b[0m\n\u001b[0;32m    429\u001b[0m         \u001b[1;32mif\u001b[0m \u001b[0mresponse\u001b[0m\u001b[1;33m:\u001b[0m\u001b[1;33m\u001b[0m\u001b[1;33m\u001b[0m\u001b[0m\n\u001b[1;32m--> 430\u001b[1;33m             \u001b[0mself\u001b[0m\u001b[1;33m.\u001b[0m\u001b[0merror_handler\u001b[0m\u001b[1;33m.\u001b[0m\u001b[0mcheck_response\u001b[0m\u001b[1;33m(\u001b[0m\u001b[0mresponse\u001b[0m\u001b[1;33m)\u001b[0m\u001b[1;33m\u001b[0m\u001b[1;33m\u001b[0m\u001b[0m\n\u001b[0m\u001b[0;32m    431\u001b[0m             response['value'] = self._unwrap_value(\n\u001b[0;32m    432\u001b[0m                 response.get('value', None))\n",
      "\u001b[1;32m~\\anaconda3\\lib\\site-packages\\selenium\\webdriver\\remote\\errorhandler.py\u001b[0m in \u001b[0;36mcheck_response\u001b[1;34m(self, response)\u001b[0m\n\u001b[0;32m    245\u001b[0m                 \u001b[0malert_text\u001b[0m \u001b[1;33m=\u001b[0m \u001b[0mvalue\u001b[0m\u001b[1;33m[\u001b[0m\u001b[1;34m'alert'\u001b[0m\u001b[1;33m]\u001b[0m\u001b[1;33m.\u001b[0m\u001b[0mget\u001b[0m\u001b[1;33m(\u001b[0m\u001b[1;34m'text'\u001b[0m\u001b[1;33m)\u001b[0m\u001b[1;33m\u001b[0m\u001b[1;33m\u001b[0m\u001b[0m\n\u001b[0;32m    246\u001b[0m             \u001b[1;32mraise\u001b[0m \u001b[0mexception_class\u001b[0m\u001b[1;33m(\u001b[0m\u001b[0mmessage\u001b[0m\u001b[1;33m,\u001b[0m \u001b[0mscreen\u001b[0m\u001b[1;33m,\u001b[0m \u001b[0mstacktrace\u001b[0m\u001b[1;33m,\u001b[0m \u001b[0malert_text\u001b[0m\u001b[1;33m)\u001b[0m  \u001b[1;31m# type: ignore[call-arg]  # mypy is not smart enough here\u001b[0m\u001b[1;33m\u001b[0m\u001b[1;33m\u001b[0m\u001b[0m\n\u001b[1;32m--> 247\u001b[1;33m         \u001b[1;32mraise\u001b[0m \u001b[0mexception_class\u001b[0m\u001b[1;33m(\u001b[0m\u001b[0mmessage\u001b[0m\u001b[1;33m,\u001b[0m \u001b[0mscreen\u001b[0m\u001b[1;33m,\u001b[0m \u001b[0mstacktrace\u001b[0m\u001b[1;33m)\u001b[0m\u001b[1;33m\u001b[0m\u001b[1;33m\u001b[0m\u001b[0m\n\u001b[0m\u001b[0;32m    248\u001b[0m \u001b[1;33m\u001b[0m\u001b[0m\n\u001b[0;32m    249\u001b[0m     \u001b[1;32mdef\u001b[0m \u001b[0m_value_or_default\u001b[0m\u001b[1;33m(\u001b[0m\u001b[0mself\u001b[0m\u001b[1;33m,\u001b[0m \u001b[0mobj\u001b[0m\u001b[1;33m:\u001b[0m \u001b[0mMapping\u001b[0m\u001b[1;33m[\u001b[0m\u001b[0m_KT\u001b[0m\u001b[1;33m,\u001b[0m \u001b[0m_VT\u001b[0m\u001b[1;33m]\u001b[0m\u001b[1;33m,\u001b[0m \u001b[0mkey\u001b[0m\u001b[1;33m:\u001b[0m \u001b[0m_KT\u001b[0m\u001b[1;33m,\u001b[0m \u001b[0mdefault\u001b[0m\u001b[1;33m:\u001b[0m \u001b[0m_VT\u001b[0m\u001b[1;33m)\u001b[0m \u001b[1;33m->\u001b[0m \u001b[0m_VT\u001b[0m\u001b[1;33m:\u001b[0m\u001b[1;33m\u001b[0m\u001b[1;33m\u001b[0m\u001b[0m\n",
      "\u001b[1;31mJavascriptException\u001b[0m: Message: javascript error: missing ) after argument list\n  (Session info: chrome=102.0.5005.115)\nStacktrace:\nBacktrace:\n\tOrdinal0 [0x00D1D953+2414931]\n\tOrdinal0 [0x00CAF5E1+1963489]\n\tOrdinal0 [0x00B9C6B8+837304]\n\tOrdinal0 [0x00B9F0B4+848052]\n\tOrdinal0 [0x00B9EF72+847730]\n\tOrdinal0 [0x00B9F8EA+850154]\n\tOrdinal0 [0x00BF5249+1200713]\n\tOrdinal0 [0x00BE449C+1131676]\n\tOrdinal0 [0x00BF4812+1198098]\n\tOrdinal0 [0x00BE42B6+1131190]\n\tOrdinal0 [0x00BBE860+976992]\n\tOrdinal0 [0x00BBF756+980822]\n\tGetHandleVerifier [0x00F8CC62+2510274]\n\tGetHandleVerifier [0x00F7F760+2455744]\n\tGetHandleVerifier [0x00DAEABA+551962]\n\tGetHandleVerifier [0x00DAD916+547446]\n\tOrdinal0 [0x00CB5F3B+1990459]\n\tOrdinal0 [0x00CBA898+2009240]\n\tOrdinal0 [0x00CBA985+2009477]\n\tOrdinal0 [0x00CC3AD1+2046673]\n\tBaseThreadInitThunk [0x760B6739+25]\n\tRtlGetFullPathName_UEx [0x76F98FEF+1215]\n\tRtlGetFullPathName_UEx [0x76F98FBD+1165]\n"
     ]
    }
   ],
   "source": [
    "import csv\n",
    "\n",
    "from selenium import webdriver\n",
    "from selenium.webdriver.common.keys import Keys\n",
    "\n",
    "driver = webdriver.Chrome('chromedriver')\n",
    "def csv_url_reader(url_obj):\n",
    "    reader = csv.DictReader(url_obj, delimiter=',')\n",
    "\n",
    "\n",
    "    for line in reader:\n",
    "        url = line[\"URL\"]\n",
    "        title = line[\"Title\"]\n",
    "        print(url + title)\n",
    "        driver.execute_script(\"window.open(\" + url + \",'_blank');\")\n",
    "\n",
    "\n",
    "\n",
    "if __name__ == \"__main__\":\n",
    "    with open(\"URL.csv\") as url_obj:\n",
    "        csv_url_reader(url_obj)"
   ]
  },
  {
   "cell_type": "code",
   "execution_count": 14,
   "id": "29a3e1ee",
   "metadata": {
    "ExecuteTime": {
     "end_time": "2022-06-15T09:01:03.416458Z",
     "start_time": "2022-06-15T09:01:03.407102Z"
    }
   },
   "outputs": [],
   "source": [
    "# def web_searcher(lst):\n",
    "#     for i in range(len(lst)):\n",
    "#         search_string = lst[i]\n",
    "#         search_string = search_string.replace(' ', '+')\n",
    "#         browser = webdriver.Chrome('chromedriver')\n",
    "#         browser.execute_script(\"window.open(\" + search_string + \",'_blank');\")\n",
    "# #         for j in range(1):\n",
    "# # #             matched_elements = browser.get(\"https://www.google.com/search?q=\" + search_string + \"&start=\" + str(i))\n",
    "# # #             browser.\n",
    "# #             browser.find_element_by_tag_name('body').send_keys(Keys.CONTROL + 't')\n",
    "# # #             window_before = browser.window_handles[i]\n",
    "# # #             if (i+1 < len(lst)-1):\n",
    "# # #                 window_after = browser.window_handles[i+1]\n",
    "# # #             else:\n",
    "# # #                 window_after = browser.window_handles[i]\n",
    "# # #             browser.switch_to_window(window_after)\n",
    "# #             time.sleep(10)\n",
    "# #             matched_elements = browser.get(\"https://www.google.com/search?q=\" + search_string + \"&start=\" + str(j))\n",
    "# #      while(True):\n",
    "# #         pass"
   ]
  },
  {
   "cell_type": "code",
   "execution_count": 22,
   "id": "21c053a9",
   "metadata": {
    "ExecuteTime": {
     "end_time": "2022-06-15T07:02:44.770641Z",
     "start_time": "2022-06-15T07:02:44.750694Z"
    }
   },
   "outputs": [],
   "source": [
    "# def input_list():\n",
    "#     global lst\n",
    "#     lst = [i for i in iter(partial(input, 'dork link: '), 'stop' or 'STOP')]\n",
    "#     return lst"
   ]
  },
  {
   "cell_type": "code",
   "execution_count": 9,
   "id": "9b8390bb",
   "metadata": {
    "ExecuteTime": {
     "end_time": "2022-06-20T13:05:18.296108Z",
     "start_time": "2022-06-20T13:05:18.098040Z"
    }
   },
   "outputs": [
    {
     "data": {
      "text/plain": [
       "1"
      ]
     },
     "execution_count": 9,
     "metadata": {},
     "output_type": "execute_result"
    }
   ],
   "source": [
    "# import webbrowser  \n",
    "# webbrowser.open(\"site:linkedin.com inurl:pub -inurl:dir “at Amazon” “Current”\", new=0, autoraise=True)\n",
    "import os\n",
    "os.system(\"start \\\"\\\" https://www.google.com/search?q=site%3Alinkedin.com+inurl%3Apub+-inurl%3Adir+%E2%80%9Cat+Amazon%E2%80%9D+%E2%80%9CCurrent%E2%80%9D&rlz=1C1CHBF_enIN925IN925&oq=site%3Alinkedin.com+inurl%3Apub+-inurl%3Adir+%E2%80%9Cat+Amazon%E2%80%9D+%E2%80%9CCurrent%E2%80%9D&aqs=chrome..69i57j69i58.1039j0j7&sourceid=chrome&ie=UTF-8\")"
   ]
  }
 ],
 "metadata": {
  "kernelspec": {
   "display_name": "Python 3 (ipykernel)",
   "language": "python",
   "name": "python3"
  },
  "language_info": {
   "codemirror_mode": {
    "name": "ipython",
    "version": 3
   },
   "file_extension": ".py",
   "mimetype": "text/x-python",
   "name": "python",
   "nbconvert_exporter": "python",
   "pygments_lexer": "ipython3",
   "version": "3.9.12"
  }
 },
 "nbformat": 4,
 "nbformat_minor": 5
}
